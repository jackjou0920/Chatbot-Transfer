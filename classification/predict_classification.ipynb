{
 "cells": [
  {
   "cell_type": "code",
   "execution_count": 1,
   "id": "forbidden-vietnamese",
   "metadata": {},
   "outputs": [],
   "source": [
    "import time\n",
    "import torch\n",
    "import numpy as np\n",
    "from transformers import BertTokenizer, BertForSequenceClassification"
   ]
  },
  {
   "cell_type": "code",
   "execution_count": 2,
   "id": "minus-oracle",
   "metadata": {},
   "outputs": [
    {
     "data": {
      "text/plain": [
       "'GeForce RTX 3060'"
      ]
     },
     "execution_count": 2,
     "metadata": {},
     "output_type": "execute_result"
    }
   ],
   "source": [
    "device = torch.device(\"cuda\" if torch.cuda.is_available() else \"cpu\")\n",
    "# device = torch.device(\"cpu\")\n",
    "n_gpu = torch.cuda.device_count()\n",
    "torch.cuda.get_device_name(0)"
   ]
  },
  {
   "cell_type": "code",
   "execution_count": 3,
   "id": "occasional-greek",
   "metadata": {},
   "outputs": [
    {
     "name": "stdout",
     "output_type": "stream",
     "text": [
      "load model time: 5.8990325927734375\n"
     ]
    }
   ],
   "source": [
    "start = time.time()\n",
    "tokenizer = BertTokenizer.from_pretrained('bert-base-chinese')\n",
    "model = torch.load(\"model_classification_gpu_epoch_1_batch_64\")\n",
    "print (\"load model time:\", time.time()-start)"
   ]
  },
  {
   "cell_type": "code",
   "execution_count": 4,
   "id": "seasonal-creation",
   "metadata": {},
   "outputs": [],
   "source": [
    "MAX_LEN = 70\n",
    "batch_size = 64"
   ]
  },
  {
   "cell_type": "code",
   "execution_count": 5,
   "id": "floral-marking",
   "metadata": {},
   "outputs": [],
   "source": [
    "def convert_text_to_ids(tokenizer, text, max_len=70):\n",
    "    if isinstance(text, str):\n",
    "        tokenized_text = tokenizer.encode_plus(text, max_length=max_len, add_special_tokens=True)\n",
    "        input_ids = tokenized_text[\"input_ids\"]\n",
    "        token_type_ids = tokenized_text[\"token_type_ids\"]\n",
    "    elif isinstance(text, list):\n",
    "        input_ids = []\n",
    "        token_type_ids = []\n",
    "        for t in text:\n",
    "            tokenized_text = tokenizer.encode_plus(t, max_length=max_len, add_special_tokens=True)\n",
    "            input_ids.append(tokenized_text[\"input_ids\"])\n",
    "            token_type_ids.append(tokenized_text[\"token_type_ids\"])\n",
    "    else:\n",
    "        print(\"Unexpected input\")\n",
    "    return input_ids, token_type_ids"
   ]
  },
  {
   "cell_type": "code",
   "execution_count": 6,
   "id": "mental-indonesian",
   "metadata": {},
   "outputs": [],
   "source": [
    "def seq_padding(tokenizer, X):\n",
    "    pad_id = tokenizer.convert_tokens_to_ids(\"[PAD]\")\n",
    "    if len(X) <= 1:\n",
    "        return torch.tensor(X)\n",
    "    L = [len(x) for x in X]\n",
    "    ML = max(L)\n",
    "    X = torch.Tensor([x + [pad_id] * (ML - len(x)) if len(x) < ML else x for x in X])\n",
    "    return X"
   ]
  },
  {
   "cell_type": "code",
   "execution_count": 9,
   "id": "linear-identifier",
   "metadata": {},
   "outputs": [],
   "source": [
    "def predict_classification(text):\n",
    "    input_ids, token_type_ids = convert_text_to_ids(tokenizer, text, max_len=MAX_LEN)\n",
    "    input_ids = seq_padding(tokenizer, input_ids)\n",
    "    token_type_ids = seq_padding(tokenizer, token_type_ids)\n",
    "\n",
    "    input_ids, token_type_ids = input_ids.long(), token_type_ids.long()\n",
    "    input_ids, token_type_ids = input_ids.to(device), token_type_ids.to(device)\n",
    "\n",
    "    model.eval()\n",
    "    with torch.no_grad():\n",
    "        output = model(input_ids=input_ids, token_type_ids=token_type_ids)\n",
    "\n",
    "    logits = output.logits.detach().cpu().numpy()\n",
    "    return(np.argmax(logits, axis=1)[0])"
   ]
  },
  {
   "cell_type": "code",
   "execution_count": 10,
   "id": "romance-junior",
   "metadata": {},
   "outputs": [
    {
     "name": "stdout",
     "output_type": "stream",
     "text": [
      "1\n"
     ]
    }
   ],
   "source": [
    "text = ['我想轉給父親的戶頭5063元從薪轉']\n",
    "result = predict_classification(text)\n",
    "print(result)"
   ]
  },
  {
   "cell_type": "code",
   "execution_count": null,
   "id": "viral-board",
   "metadata": {},
   "outputs": [],
   "source": []
  }
 ],
 "metadata": {
  "kernelspec": {
   "display_name": "Python 3",
   "language": "python",
   "name": "python3"
  },
  "language_info": {
   "codemirror_mode": {
    "name": "ipython",
    "version": 3
   },
   "file_extension": ".py",
   "mimetype": "text/x-python",
   "name": "python",
   "nbconvert_exporter": "python",
   "pygments_lexer": "ipython3",
   "version": "3.8.7"
  }
 },
 "nbformat": 4,
 "nbformat_minor": 5
}
